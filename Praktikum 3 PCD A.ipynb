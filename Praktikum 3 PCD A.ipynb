{
 "cells": [
  {
   "cell_type": "markdown",
   "id": "99782348",
   "metadata": {},
   "source": [
    "# DWIARAS "
   ]
  },
  {
   "cell_type": "code",
   "execution_count": 1,
   "id": "a5e10f98",
   "metadata": {},
   "outputs": [
    {
     "name": "stderr",
     "output_type": "stream",
     "text": [
      "C:\\Users\\kashrina\\anaconda3\\Lib\\site-packages\\paramiko\\transport.py:219: CryptographyDeprecationWarning: Blowfish has been deprecated\n",
      "  \"class\": algorithms.Blowfish,\n"
     ]
    }
   ],
   "source": [
    "import cv2\n",
    "import numpy as np\n",
    "import matplotlib.pyplot as plt\n",
    "%matplotlib inline\n",
    "\n",
    "import skimage"
   ]
  },
  {
   "cell_type": "code",
   "execution_count": 2,
   "id": "915d1221",
   "metadata": {},
   "outputs": [],
   "source": [
    "daun = cv2.imread (\"Asset/daun.jpg\", 0) #0 ini untuk menghilangkan yg kedalaman citra\n",
    "tinggi, lebar = daun.shape"
   ]
  },
  {
   "cell_type": "code",
   "execution_count": 3,
   "id": "1a8a72b8",
   "metadata": {},
   "outputs": [],
   "source": [
    "cv2.imshow(\"gambar daun\", daun)\n",
    "cv2.waitKey(0)\n",
    "cv2.destroyAllWindows()"
   ]
  },
  {
   "cell_type": "markdown",
   "id": "7cacaaf9",
   "metadata": {},
   "source": [
    "## memperkirakan nilai ambang"
   ]
  },
  {
   "cell_type": "code",
   "execution_count": 4,
   "id": "bd7ffddf",
   "metadata": {},
   "outputs": [],
   "source": [
    "nilai_ambang = 131\n",
    "daun_hasil = daun.copy()\n",
    "for x in range (tinggi):\n",
    "    for y in range (lebar):\n",
    "        if daun[x,y] < nilai_ambang:\n",
    "            daun_hasil[x,y] = 0\n",
    "        else:\n",
    "            daun_hasil[x,y] = 255"
   ]
  },
  {
   "cell_type": "code",
   "execution_count": 5,
   "id": "806b2eba",
   "metadata": {},
   "outputs": [],
   "source": [
    "cv2.imshow(\"gambar daun\", daun_hasil)\n",
    "cv2.waitKey(0)\n",
    "cv2.destroyAllWindows()"
   ]
  },
  {
   "cell_type": "code",
   "execution_count": 6,
   "id": "0e01affd",
   "metadata": {},
   "outputs": [],
   "source": [
    "def titeratif(image):\n",
    "    tinggi, lebar=image.shape\n",
    "    t0=127\n",
    "    while(True):\n",
    "        rata_kiri=0;\n",
    "        rata_kanan=0;\n",
    "        jum_kiri=0;\n",
    "        jum_kanan=0;\n",
    "        for x in range (tinggi):\n",
    "            for y in range (lebar):\n",
    "                if image[x,y] <= 127: #apakah 127 ini blh diganti t0?\n",
    "                    rata_kiri = rata_kiri + image[x,y] #cari jumlah nilai\n",
    "                    jum_kiri = jum_kiri + 1 #cari banyak data\n",
    "                else:\n",
    "                    rata_kanan = rata_kanan + image[x,y]\n",
    "                    jum_kanan = jum_kanan+1\n",
    "                    \n",
    "        rata_kiri = rata_kiri/jum_kiri \n",
    "        rata_kanan = rata_kanan/jum_kanan\n",
    "        t1 = (rata_kiri + rata_kanan)/2\n",
    "        if((t0-t1)<1):\n",
    "            break\n",
    "        t0=t1\n",
    "    return round(t1)"
   ]
  },
  {
   "cell_type": "code",
   "execution_count": 7,
   "id": "ca44dca9",
   "metadata": {},
   "outputs": [
    {
     "data": {
      "text/plain": [
       "131"
      ]
     },
     "execution_count": 7,
     "metadata": {},
     "output_type": "execute_result"
    }
   ],
   "source": [
    "titeratif(daun)"
   ]
  },
  {
   "cell_type": "markdown",
   "id": "a685273c",
   "metadata": {},
   "source": [
    "# ARAS JAMAK"
   ]
  },
  {
   "cell_type": "code",
   "execution_count": 8,
   "id": "63995ab2",
   "metadata": {},
   "outputs": [],
   "source": [
    "jamak = cv2.imread (\"Asset/arasjamak.jpg\", 0) #0 ini untuk menghilangkan yg kedalaman citra\n",
    "tinggi, lebar = daun.shape"
   ]
  },
  {
   "cell_type": "code",
   "execution_count": 9,
   "id": "21477990",
   "metadata": {},
   "outputs": [],
   "source": [
    "def arasjamak(image, t1, t2):\n",
    "    res=image\n",
    "    m, n = image.shape\n",
    "        \n",
    "    for x in range (m):\n",
    "        for y in range (n):\n",
    "            if (image[x,y] <= t1) or (image[x,y] >= t2):\n",
    "                res[x,y] = 0\n",
    "                \n",
    "            else:\n",
    "                res[x,y] = 255\n",
    "    return res"
   ]
  },
  {
   "cell_type": "code",
   "execution_count": 10,
   "id": "4730d1ce",
   "metadata": {},
   "outputs": [
    {
     "ename": "AttributeError",
     "evalue": "'NoneType' object has no attribute 'shape'",
     "output_type": "error",
     "traceback": [
      "\u001b[1;31m---------------------------------------------------------------------------\u001b[0m",
      "\u001b[1;31mAttributeError\u001b[0m                            Traceback (most recent call last)",
      "Cell \u001b[1;32mIn[10], line 1\u001b[0m\n\u001b[1;32m----> 1\u001b[0m daunarasjamak\u001b[38;5;241m=\u001b[39m arasjamak(jamak,\u001b[38;5;241m185\u001b[39m,\u001b[38;5;241m200\u001b[39m)\n",
      "Cell \u001b[1;32mIn[9], line 3\u001b[0m, in \u001b[0;36marasjamak\u001b[1;34m(image, t1, t2)\u001b[0m\n\u001b[0;32m      1\u001b[0m \u001b[38;5;28;01mdef\u001b[39;00m \u001b[38;5;21marasjamak\u001b[39m(image, t1, t2):\n\u001b[0;32m      2\u001b[0m     res\u001b[38;5;241m=\u001b[39mimage\n\u001b[1;32m----> 3\u001b[0m     m, n \u001b[38;5;241m=\u001b[39m image\u001b[38;5;241m.\u001b[39mshape\n\u001b[0;32m      5\u001b[0m     \u001b[38;5;28;01mfor\u001b[39;00m x \u001b[38;5;129;01min\u001b[39;00m \u001b[38;5;28mrange\u001b[39m (m):\n\u001b[0;32m      6\u001b[0m         \u001b[38;5;28;01mfor\u001b[39;00m y \u001b[38;5;129;01min\u001b[39;00m \u001b[38;5;28mrange\u001b[39m (n):\n",
      "\u001b[1;31mAttributeError\u001b[0m: 'NoneType' object has no attribute 'shape'"
     ]
    }
   ],
   "source": [
    "daunarasjamak= arasjamak(jamak,185,200)"
   ]
  },
  {
   "cell_type": "code",
   "execution_count": null,
   "id": "08f36c36",
   "metadata": {},
   "outputs": [],
   "source": [
    "cv2.imshow(\"gambar bentuk\", daunarasjamak)\n",
    "cv2.waitKey(0)\n",
    "cv2.destroyAllWindows()"
   ]
  },
  {
   "cell_type": "markdown",
   "id": "21bb9f65",
   "metadata": {},
   "source": [
    "# Edge Detection"
   ]
  },
  {
   "cell_type": "code",
   "execution_count": null,
   "id": "fb51146a",
   "metadata": {},
   "outputs": [],
   "source": [
    "image = cv2.imread (\"Asset/parkinglot.jpg\")"
   ]
  },
  {
   "cell_type": "code",
   "execution_count": null,
   "id": "44a483f2",
   "metadata": {},
   "outputs": [],
   "source": [
    "cv2.imshow(\"gambar parkir\", image)\n",
    "cv2.waitKey(0)\n",
    "cv2.destroyAllWindows()"
   ]
  },
  {
   "cell_type": "code",
   "execution_count": null,
   "id": "6737828c",
   "metadata": {},
   "outputs": [],
   "source": [
    "gray = cv2.cvtColor(image, cv2.COLOR_BGR2GRAY)\n",
    "edges = cv2.Canny(image,100,150) #canny ini ngespotlight nilai pixel yang selinear"
   ]
  },
  {
   "cell_type": "code",
   "execution_count": null,
   "id": "2772420e",
   "metadata": {},
   "outputs": [],
   "source": [
    "cv2.imshow(\"gambar parkir\", edges)\n",
    "cv2.waitKey(0)\n",
    "cv2.destroyAllWindows()"
   ]
  },
  {
   "cell_type": "code",
   "execution_count": null,
   "id": "fc51cf96",
   "metadata": {},
   "outputs": [],
   "source": [
    "fig, axs = plt.subplots(1,2,figsize = (10,10))\n",
    "ax = axs.ravel()\n",
    "\n",
    "ax[0].imshow(gray, cmap = \"gray\")\n",
    "ax[0].set_title(\"Gambar Asli\")\n",
    "\n",
    "ax[1].imshow(edges, cmap = \"gray\")\n",
    "ax[1].set_title(\"Gambar yang udah\")"
   ]
  },
  {
   "cell_type": "code",
   "execution_count": null,
   "id": "41e8a3fd",
   "metadata": {},
   "outputs": [],
   "source": [
    "lines = cv2.HoughLinesP(edges,1,np.pi/180,30,maxLineGap=250) #function\n",
    "image_line = image.copy()"
   ]
  },
  {
   "cell_type": "code",
   "execution_count": null,
   "id": "b4c2e0de",
   "metadata": {},
   "outputs": [],
   "source": [
    "for line in lines:\n",
    "    x1,y1,x2,y2 = line [0]\n",
    "    cv2.line(image_line,(x1,y1),(x2,y2),(100,8,255),1)"
   ]
  },
  {
   "cell_type": "code",
   "execution_count": null,
   "id": "df6fc3df",
   "metadata": {},
   "outputs": [],
   "source": [
    "fig,axs = plt.subplots(1,2,figsize = (10,10))\n",
    "ax = axs.ravel()\n",
    "\n",
    "ax[0].imshow(gray, cmap = \"gray\")\n",
    "ax[0].set_title(\"Gambar Asli\")\n",
    "\n",
    "ax[1].imshow(image_line, cmap = \"gray\")\n",
    "ax[1].set_title(\"Gambar yang udah\")"
   ]
  },
  {
   "cell_type": "code",
   "execution_count": null,
   "id": "bf06d501",
   "metadata": {},
   "outputs": [],
   "source": [
    "lines"
   ]
  },
  {
   "cell_type": "code",
   "execution_count": null,
   "id": "45dbe347",
   "metadata": {},
   "outputs": [],
   "source": [
    "lines.shape"
   ]
  },
  {
   "cell_type": "code",
   "execution_count": null,
   "id": "d7fe5fa0",
   "metadata": {},
   "outputs": [],
   "source": []
  }
 ],
 "metadata": {
  "kernelspec": {
   "display_name": "Python 3 (ipykernel)",
   "language": "python",
   "name": "python3"
  },
  "language_info": {
   "codemirror_mode": {
    "name": "ipython",
    "version": 3
   },
   "file_extension": ".py",
   "mimetype": "text/x-python",
   "name": "python",
   "nbconvert_exporter": "python",
   "pygments_lexer": "ipython3",
   "version": "3.11.3"
  }
 },
 "nbformat": 4,
 "nbformat_minor": 5
}
